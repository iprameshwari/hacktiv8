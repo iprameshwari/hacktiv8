{
  "nbformat": 4,
  "nbformat_minor": 0,
  "metadata": {
    "colab": {
      "name": "PYIM_Assgn_3_8_Irma Prameshwari.ipynb",
      "provenance": [],
      "authorship_tag": "ABX9TyPS4qeShT07PM4H0mnCE8/4",
      "include_colab_link": true
    },
    "kernelspec": {
      "name": "python3",
      "display_name": "Python 3"
    },
    "language_info": {
      "name": "python"
    }
  },
  "cells": [
    {
      "cell_type": "markdown",
      "metadata": {
        "id": "view-in-github",
        "colab_type": "text"
      },
      "source": [
        "<a href=\"https://colab.research.google.com/github/iprameshwari/hacktiv8/blob/main/PYIM_Assgn_3_8_Irma_Prameshwari.ipynb\" target=\"_parent\"><img src=\"https://colab.research.google.com/assets/colab-badge.svg\" alt=\"Open In Colab\"/></a>"
      ]
    },
    {
      "cell_type": "markdown",
      "metadata": {
        "id": "XBPszSMyYS59"
      },
      "source": [
        ""
      ]
    },
    {
      "cell_type": "code",
      "metadata": {
        "colab": {
          "base_uri": "https://localhost:8080/"
        },
        "id": "MgTe6W75YSmG",
        "outputId": "da08c316-4d28-40dd-8784-a5bdb5b5b6b7"
      },
      "source": [
        "!wget https://s3.amazonaws.com/amazon-reviews-pds/tsv/amazon_reviews_us_Furniture_v1_00.tsv.gz"
      ],
      "execution_count": 1,
      "outputs": [
        {
          "output_type": "stream",
          "text": [
            "--2021-07-05 06:35:58--  https://s3.amazonaws.com/amazon-reviews-pds/tsv/amazon_reviews_us_Furniture_v1_00.tsv.gz\n",
            "Resolving s3.amazonaws.com (s3.amazonaws.com)... 52.216.131.189\n",
            "Connecting to s3.amazonaws.com (s3.amazonaws.com)|52.216.131.189|:443... connected.\n",
            "HTTP request sent, awaiting response... 200 OK\n",
            "Length: 148982796 (142M) [application/x-gzip]\n",
            "Saving to: ‘amazon_reviews_us_Furniture_v1_00.tsv.gz’\n",
            "\n",
            "amazon_reviews_us_F 100%[===================>] 142.08M  37.3MB/s    in 4.3s    \n",
            "\n",
            "2021-07-05 06:36:03 (33.2 MB/s) - ‘amazon_reviews_us_Furniture_v1_00.tsv.gz’ saved [148982796/148982796]\n",
            "\n"
          ],
          "name": "stdout"
        }
      ]
    },
    {
      "cell_type": "markdown",
      "metadata": {
        "id": "5xJHUpS6YqIA"
      },
      "source": [
        "# Import Libraries"
      ]
    },
    {
      "cell_type": "code",
      "metadata": {
        "id": "Pa11bERRYrxl"
      },
      "source": [
        "import matplotlib as mpl\n",
        "import matplotlib.pyplot as plt\n",
        "import os\n",
        "import re\n",
        "import shutil\n",
        "import string\n",
        "import tensorflow as tf\n",
        "from tensorflow.keras import regularizers\n",
        "\n",
        "from tensorflow.keras import layers\n",
        "from tensorflow.keras import losses\n",
        "\n",
        "from collections import Counter\n",
        "\n",
        "\n",
        "import pandas as pd\n",
        "import numpy as np\n",
        "\n",
        "import sklearn\n",
        "\n",
        "\n",
        "from sklearn.model_selection import train_test_split\n",
        "from sklearn.metrics import classification_report\n",
        "\n",
        "from tensorflow.keras import preprocessing\n",
        "from tensorflow.keras.preprocessing.text import Tokenizer\n",
        "from tensorflow.keras.preprocessing.sequence import pad_sequences\n",
        "\n",
        "\n",
        "import seaborn as sns\n",
        "\n",
        "import pydot"
      ],
      "execution_count": 3,
      "outputs": []
    },
    {
      "cell_type": "markdown",
      "metadata": {
        "id": "dlgT0fR2Ye8s"
      },
      "source": [
        "# Pembuatan DataFrame\n",
        "Mengkonversikan data .tsv.gz menjadi DataFrame"
      ]
    },
    {
      "cell_type": "code",
      "metadata": {
        "colab": {
          "base_uri": "https://localhost:8080/",
          "height": 1000
        },
        "id": "huNH_dxrYVs4",
        "outputId": "52826a41-8b9e-480f-f161-bc95bc869520"
      },
      "source": [
        "dataset = pd.read_csv('/content/amazon_reviews_us_Furniture_v1_00.tsv.gz', sep='\\t', compression=\"gzip\", error_bad_lines=False)\n",
        "dataset"
      ],
      "execution_count": 50,
      "outputs": [
        {
          "output_type": "stream",
          "text": [
            "b'Skipping line 2645: expected 15 fields, saw 22\\nSkipping line 10770: expected 15 fields, saw 22\\nSkipping line 13472: expected 15 fields, saw 22\\nSkipping line 15785: expected 15 fields, saw 22\\nSkipping line 22792: expected 15 fields, saw 22\\nSkipping line 26618: expected 15 fields, saw 22\\n'\n",
            "b'Skipping line 70872: expected 15 fields, saw 22\\nSkipping line 71165: expected 15 fields, saw 22\\nSkipping line 118103: expected 15 fields, saw 22\\n'\n",
            "b'Skipping line 148666: expected 15 fields, saw 22\\nSkipping line 150834: expected 15 fields, saw 22\\nSkipping line 169344: expected 15 fields, saw 22\\n'\n",
            "b'Skipping line 197223: expected 15 fields, saw 22\\nSkipping line 212607: expected 15 fields, saw 22\\nSkipping line 227765: expected 15 fields, saw 22\\nSkipping line 240130: expected 15 fields, saw 22\\n'\n",
            "b'Skipping line 281133: expected 15 fields, saw 22\\nSkipping line 289460: expected 15 fields, saw 22\\nSkipping line 311933: expected 15 fields, saw 22\\nSkipping line 312121: expected 15 fields, saw 22\\n'\n",
            "b'Skipping line 328803: expected 15 fields, saw 22\\nSkipping line 347225: expected 15 fields, saw 22\\nSkipping line 372141: expected 15 fields, saw 22\\nSkipping line 383871: expected 15 fields, saw 22\\n'\n",
            "b'Skipping line 394261: expected 15 fields, saw 22\\nSkipping line 395056: expected 15 fields, saw 22\\n'\n",
            "b'Skipping line 491456: expected 15 fields, saw 22\\n'\n",
            "b'Skipping line 644633: expected 15 fields, saw 22\\n'\n"
          ],
          "name": "stderr"
        },
        {
          "output_type": "execute_result",
          "data": {
            "text/html": [
              "<div>\n",
              "<style scoped>\n",
              "    .dataframe tbody tr th:only-of-type {\n",
              "        vertical-align: middle;\n",
              "    }\n",
              "\n",
              "    .dataframe tbody tr th {\n",
              "        vertical-align: top;\n",
              "    }\n",
              "\n",
              "    .dataframe thead th {\n",
              "        text-align: right;\n",
              "    }\n",
              "</style>\n",
              "<table border=\"1\" class=\"dataframe\">\n",
              "  <thead>\n",
              "    <tr style=\"text-align: right;\">\n",
              "      <th></th>\n",
              "      <th>marketplace</th>\n",
              "      <th>customer_id</th>\n",
              "      <th>review_id</th>\n",
              "      <th>product_id</th>\n",
              "      <th>product_parent</th>\n",
              "      <th>product_title</th>\n",
              "      <th>product_category</th>\n",
              "      <th>star_rating</th>\n",
              "      <th>helpful_votes</th>\n",
              "      <th>total_votes</th>\n",
              "      <th>vine</th>\n",
              "      <th>verified_purchase</th>\n",
              "      <th>review_headline</th>\n",
              "      <th>review_body</th>\n",
              "      <th>review_date</th>\n",
              "    </tr>\n",
              "  </thead>\n",
              "  <tbody>\n",
              "    <tr>\n",
              "      <th>0</th>\n",
              "      <td>US</td>\n",
              "      <td>24509695</td>\n",
              "      <td>R3VR960AHLFKDV</td>\n",
              "      <td>B004HB5E0E</td>\n",
              "      <td>488241329</td>\n",
              "      <td>Shoal Creek Computer Desk</td>\n",
              "      <td>Furniture</td>\n",
              "      <td>4</td>\n",
              "      <td>0</td>\n",
              "      <td>0</td>\n",
              "      <td>N</td>\n",
              "      <td>Y</td>\n",
              "      <td>... desk is very study and it i has a beautifu...</td>\n",
              "      <td>This desk is very study and it i has  a beauti...</td>\n",
              "      <td>2015-08-31</td>\n",
              "    </tr>\n",
              "    <tr>\n",
              "      <th>1</th>\n",
              "      <td>US</td>\n",
              "      <td>34731776</td>\n",
              "      <td>R16LGVMFKIUT0G</td>\n",
              "      <td>B0042TNMMS</td>\n",
              "      <td>205864445</td>\n",
              "      <td>Dorel Home Products Delaney Large Rectangular ...</td>\n",
              "      <td>Furniture</td>\n",
              "      <td>5</td>\n",
              "      <td>0</td>\n",
              "      <td>0</td>\n",
              "      <td>N</td>\n",
              "      <td>Y</td>\n",
              "      <td>Five Stars</td>\n",
              "      <td>Great item</td>\n",
              "      <td>2015-08-31</td>\n",
              "    </tr>\n",
              "    <tr>\n",
              "      <th>2</th>\n",
              "      <td>US</td>\n",
              "      <td>1272331</td>\n",
              "      <td>R1AIMEEPYHMOE4</td>\n",
              "      <td>B0030MPBZ4</td>\n",
              "      <td>124663823</td>\n",
              "      <td>Bathroom Vanity Table Jewelry Makeup Desk Benc...</td>\n",
              "      <td>Furniture</td>\n",
              "      <td>5</td>\n",
              "      <td>1</td>\n",
              "      <td>1</td>\n",
              "      <td>N</td>\n",
              "      <td>Y</td>\n",
              "      <td>Five Stars</td>\n",
              "      <td>Perfect fit for my bedroom, been wanting one s...</td>\n",
              "      <td>2015-08-31</td>\n",
              "    </tr>\n",
              "    <tr>\n",
              "      <th>3</th>\n",
              "      <td>US</td>\n",
              "      <td>45284262</td>\n",
              "      <td>R1892CCSZWZ9SR</td>\n",
              "      <td>B005G02ESA</td>\n",
              "      <td>382367578</td>\n",
              "      <td>Sleep Master Ultima Comfort Memory Foam 6 Inch...</td>\n",
              "      <td>Furniture</td>\n",
              "      <td>3</td>\n",
              "      <td>0</td>\n",
              "      <td>0</td>\n",
              "      <td>N</td>\n",
              "      <td>Y</td>\n",
              "      <td>Good enough</td>\n",
              "      <td>We use this on a trundle bed.  So, it does not...</td>\n",
              "      <td>2015-08-31</td>\n",
              "    </tr>\n",
              "    <tr>\n",
              "      <th>4</th>\n",
              "      <td>US</td>\n",
              "      <td>30003523</td>\n",
              "      <td>R285P679YWVKD1</td>\n",
              "      <td>B005JS8AUA</td>\n",
              "      <td>309497463</td>\n",
              "      <td>1 1/4\" GashGuards: Deluxe Rubberized Plastic B...</td>\n",
              "      <td>Furniture</td>\n",
              "      <td>3</td>\n",
              "      <td>0</td>\n",
              "      <td>0</td>\n",
              "      <td>N</td>\n",
              "      <td>N</td>\n",
              "      <td>Gash Gards for daybed</td>\n",
              "      <td>The product is fine...just seemed like it took...</td>\n",
              "      <td>2015-08-31</td>\n",
              "    </tr>\n",
              "    <tr>\n",
              "      <th>...</th>\n",
              "      <td>...</td>\n",
              "      <td>...</td>\n",
              "      <td>...</td>\n",
              "      <td>...</td>\n",
              "      <td>...</td>\n",
              "      <td>...</td>\n",
              "      <td>...</td>\n",
              "      <td>...</td>\n",
              "      <td>...</td>\n",
              "      <td>...</td>\n",
              "      <td>...</td>\n",
              "      <td>...</td>\n",
              "      <td>...</td>\n",
              "      <td>...</td>\n",
              "      <td>...</td>\n",
              "    </tr>\n",
              "    <tr>\n",
              "      <th>791668</th>\n",
              "      <td>US</td>\n",
              "      <td>52940456</td>\n",
              "      <td>R1F7BNIK2R72ZC</td>\n",
              "      <td>B000050FF8</td>\n",
              "      <td>161996292</td>\n",
              "      <td>HoMedics BLTW-100 21-Inch AquaScape Twist Bubb...</td>\n",
              "      <td>Furniture</td>\n",
              "      <td>5</td>\n",
              "      <td>21</td>\n",
              "      <td>21</td>\n",
              "      <td>N</td>\n",
              "      <td>N</td>\n",
              "      <td>A great deal!</td>\n",
              "      <td>I sort of collect water fountains and most hav...</td>\n",
              "      <td>2000-11-07</td>\n",
              "    </tr>\n",
              "    <tr>\n",
              "      <th>791669</th>\n",
              "      <td>US</td>\n",
              "      <td>50562473</td>\n",
              "      <td>RVR3U3QA0D95B</td>\n",
              "      <td>B00000K0CL</td>\n",
              "      <td>328789022</td>\n",
              "      <td>Midnight Motion Lamp with White Lava and Blue ...</td>\n",
              "      <td>Furniture</td>\n",
              "      <td>5</td>\n",
              "      <td>10</td>\n",
              "      <td>11</td>\n",
              "      <td>N</td>\n",
              "      <td>N</td>\n",
              "      <td>This Lava Lamp is great!</td>\n",
              "      <td>I just got my lava lamp 2 days ago and I just ...</td>\n",
              "      <td>2000-10-28</td>\n",
              "    </tr>\n",
              "    <tr>\n",
              "      <th>791670</th>\n",
              "      <td>US</td>\n",
              "      <td>51137498</td>\n",
              "      <td>R1X5JB9UJRZW31</td>\n",
              "      <td>B00004SZ5M</td>\n",
              "      <td>547720134</td>\n",
              "      <td>Maglite Solitaire Incandescent 1-Cell AAA Flas...</td>\n",
              "      <td>Furniture</td>\n",
              "      <td>5</td>\n",
              "      <td>3</td>\n",
              "      <td>5</td>\n",
              "      <td>N</td>\n",
              "      <td>N</td>\n",
              "      <td>You can't go wrong owning one of these</td>\n",
              "      <td>This is similar to other mag-lites, except in ...</td>\n",
              "      <td>2000-07-16</td>\n",
              "    </tr>\n",
              "    <tr>\n",
              "      <th>791671</th>\n",
              "      <td>US</td>\n",
              "      <td>49843940</td>\n",
              "      <td>R235PHRTF7BFK7</td>\n",
              "      <td>B00004SBJJ</td>\n",
              "      <td>685482907</td>\n",
              "      <td>Le Creuset Stoneware 1-Quart Crock, White</td>\n",
              "      <td>Furniture</td>\n",
              "      <td>4</td>\n",
              "      <td>5</td>\n",
              "      <td>5</td>\n",
              "      <td>N</td>\n",
              "      <td>N</td>\n",
              "      <td>Everybody can use a little Le Creuset</td>\n",
              "      <td>I purchased this little pot as a gift for a fr...</td>\n",
              "      <td>2000-06-12</td>\n",
              "    </tr>\n",
              "    <tr>\n",
              "      <th>791672</th>\n",
              "      <td>US</td>\n",
              "      <td>52703681</td>\n",
              "      <td>RZ0Y9U30658TB</td>\n",
              "      <td>B00000ITPY</td>\n",
              "      <td>676928760</td>\n",
              "      <td>Edutiles Foam Playmats Uppercase Alphabet 26 P...</td>\n",
              "      <td>Furniture</td>\n",
              "      <td>5</td>\n",
              "      <td>5</td>\n",
              "      <td>6</td>\n",
              "      <td>N</td>\n",
              "      <td>N</td>\n",
              "      <td>Educational AND fun!</td>\n",
              "      <td>My son and I BOTH loves these!  This toy is ex...</td>\n",
              "      <td>2000-03-17</td>\n",
              "    </tr>\n",
              "  </tbody>\n",
              "</table>\n",
              "<p>791673 rows × 15 columns</p>\n",
              "</div>"
            ],
            "text/plain": [
              "       marketplace  ...  review_date\n",
              "0               US  ...   2015-08-31\n",
              "1               US  ...   2015-08-31\n",
              "2               US  ...   2015-08-31\n",
              "3               US  ...   2015-08-31\n",
              "4               US  ...   2015-08-31\n",
              "...            ...  ...          ...\n",
              "791668          US  ...   2000-11-07\n",
              "791669          US  ...   2000-10-28\n",
              "791670          US  ...   2000-07-16\n",
              "791671          US  ...   2000-06-12\n",
              "791672          US  ...   2000-03-17\n",
              "\n",
              "[791673 rows x 15 columns]"
            ]
          },
          "metadata": {
            "tags": []
          },
          "execution_count": 50
        }
      ]
    },
    {
      "cell_type": "code",
      "metadata": {
        "colab": {
          "base_uri": "https://localhost:8080/"
        },
        "id": "i-1V-U-OZ8-t",
        "outputId": "cd1782c7-d051-4659-9e13-7f04d6eefc53"
      },
      "source": [
        "# menghitung total review yang masuk\n",
        "print('Total Review Data')\n",
        "print(len(dataset))\n",
        "\n",
        "# menghitung jumlah produk yang telah direview\n",
        "print('Unique Products')\n",
        "print(len(dataset.groupby('product_id')))\n",
        "\n",
        "# menghitung jumlah customer_id (unik) yang mengirim review\n",
        "print('Unique Users')\n",
        "print(len(dataset.groupby('customer_id')))"
      ],
      "execution_count": 5,
      "outputs": [
        {
          "output_type": "stream",
          "text": [
            "Total Review Data\n",
            "791673\n",
            "Unique Products\n",
            "141131\n",
            "Unique Users\n",
            "655715\n"
          ],
          "name": "stdout"
        }
      ]
    },
    {
      "cell_type": "markdown",
      "metadata": {
        "id": "8ApHG5HzauG2"
      },
      "source": [
        "# Define function clean_text\n",
        "Mendefinisikan fungsi untuk membersihkan text review dari karakter-karakter yang tidak diperlukan"
      ]
    },
    {
      "cell_type": "code",
      "metadata": {
        "id": "US-5jZ2latjp"
      },
      "source": [
        "def clean_text(text ): \n",
        "    delete_dict = {sp_character: '' for sp_character in string.punctuation} \n",
        "    delete_dict[' '] = ' ' \n",
        "    table = str.maketrans(delete_dict)\n",
        "    text1 = text.translate(table)\n",
        "    #print('cleaned:'+text1)\n",
        "    textArr= text1.split()\n",
        "    text2 = ' '.join([w for w in textArr if ( not w.isdigit() and  ( not w.isdigit() and len(w)>2))]) \n",
        "    \n",
        "    return text2.lower()"
      ],
      "execution_count": 6,
      "outputs": []
    },
    {
      "cell_type": "markdown",
      "metadata": {
        "id": "eF0_jd5vhy2E"
      },
      "source": [
        "# Preprocess Review Data"
      ]
    },
    {
      "cell_type": "code",
      "metadata": {
        "colab": {
          "base_uri": "https://localhost:8080/"
        },
        "id": "8zukM8RTaa8Q",
        "outputId": "e64fd08a-2ef9-4e3b-a48b-f271f36017e0"
      },
      "source": [
        "# Menghilangkan data yang kosong\n",
        "dataset.dropna(axis = 0, how ='any',inplace=True) \n",
        "\n",
        "# Membersihkan review dari karakter yang tidak diperlukan menggunakan fungsi clean_text\n",
        "dataset['review_body'] = dataset['review_body'].apply(clean_text)       \n",
        "\n",
        "# Menghitung jumlah kata dari setiap review\n",
        "dataset['Num_words_text'] = dataset['review_body'].apply(lambda x:len(str(x).split())) \n",
        "\n",
        "# Menghitung jumlah review berdasarkan rating yang diberikan\n",
        "print('-------Dataset --------')\n",
        "print(dataset['star_rating'].value_counts())\n",
        "print(len(dataset))\n",
        "print('-------------------------')\n",
        "max_review_data_sentence_length  = dataset['Num_words_text'].max()\n",
        "\n",
        "# Kata terbanyak dalam 1 review\n",
        "print('Train Max Sentence Length :'+str(max_review_data_sentence_length))"
      ],
      "execution_count": 7,
      "outputs": [
        {
          "output_type": "stream",
          "text": [
            "-------Dataset --------\n",
            "5    447356\n",
            "4    153569\n",
            "3     73512\n",
            "1     73272\n",
            "2     43819\n",
            "Name: star_rating, dtype: int64\n",
            "791528\n",
            "-------------------------\n",
            "Train Max Sentence Length :4516\n"
          ],
          "name": "stdout"
        }
      ]
    },
    {
      "cell_type": "code",
      "metadata": {
        "colab": {
          "base_uri": "https://localhost:8080/"
        },
        "id": "UoNzo_69brus",
        "outputId": "382a8300-a508-4425-9de1-1ba79e88c838"
      },
      "source": [
        "# Melihat statistik dari jumlah kata yang digunakan di review_body\n",
        "dataset['Num_words_text'].describe()"
      ],
      "execution_count": 8,
      "outputs": [
        {
          "output_type": "execute_result",
          "data": {
            "text/plain": [
              "count    791528.000000\n",
              "mean         42.616189\n",
              "std          58.947353\n",
              "min           0.000000\n",
              "25%          14.000000\n",
              "50%          26.000000\n",
              "75%          51.000000\n",
              "max        4516.000000\n",
              "Name: Num_words_text, dtype: float64"
            ]
          },
          "metadata": {
            "tags": []
          },
          "execution_count": 8
        }
      ]
    },
    {
      "cell_type": "code",
      "metadata": {
        "colab": {
          "base_uri": "https://localhost:8080/",
          "height": 303
        },
        "id": "8CEfRp73brrp",
        "outputId": "b895790f-f15b-4cd2-eb13-629d0db7993c"
      },
      "source": [
        "# Visualisasi persebaran jumlah kata per review\n",
        "\n",
        "sns.set(style=\"whitegrid\")\n",
        "sns.boxplot(x=dataset['Num_words_text'])"
      ],
      "execution_count": 9,
      "outputs": [
        {
          "output_type": "execute_result",
          "data": {
            "text/plain": [
              "<matplotlib.axes._subplots.AxesSubplot at 0x7efd54b947d0>"
            ]
          },
          "metadata": {
            "tags": []
          },
          "execution_count": 9
        },
        {
          "output_type": "display_data",
          "data": {
            "image/png": "[encoded data removed]",
            "text/plain": [
              "<Figure size 432x288 with 1 Axes>"
            ]
          },
          "metadata": {
            "tags": []
          }
        }
      ]
    },
    {
      "cell_type": "code",
      "metadata": {
        "colab": {
          "base_uri": "https://localhost:8080/"
        },
        "id": "yR-_b77Ybros",
        "outputId": "e768d4a2-3fec-4064-e81c-b251001e6c53"
      },
      "source": [
        "# Memisahkan review menjadi Short dan Long review\n",
        "\n",
        "mask = (dataset['Num_words_text'] < 100) & (dataset['Num_words_text'] >=10)\n",
        "df_short_reviews = dataset[mask]\n",
        "print('No of Short reviews : ' + str(len(df_short_reviews)))\n",
        "\n",
        "\n",
        "mask = dataset['Num_words_text'] >= 100\n",
        "df_long_reviews = dataset[mask]\n",
        "print('No of Long reviews : ' + str(len(df_long_reviews)))"
      ],
      "execution_count": 13,
      "outputs": [
        {
          "output_type": "stream",
          "text": [
            "No of Short reviews : 419326\n",
            "No of Long reviews : 69912\n"
          ],
          "name": "stdout"
        }
      ]
    },
    {
      "cell_type": "markdown",
      "metadata": {
        "id": "MkS7pZmbh9Zf"
      },
      "source": [
        "# Define get_sentiment function\n",
        "Mendefinisikan fungsi untuk mengenali review berdasarkan rating yang diberikan. Apabila rating memiliki angka >= 3 maka akan dianggap sebagai review yang positif"
      ]
    },
    {
      "cell_type": "code",
      "metadata": {
        "id": "kuBs0QmZbri-"
      },
      "source": [
        "def get_sentiment(rating):\n",
        "    if rating == 5 or rating == 4 or rating ==3:\n",
        "        return 1\n",
        "    else:\n",
        "        return 0"
      ],
      "execution_count": 14,
      "outputs": []
    },
    {
      "cell_type": "markdown",
      "metadata": {
        "id": "UYoKBFQCayDL"
      },
      "source": [
        "# Pembuatan data training, test, dan validation"
      ]
    },
    {
      "cell_type": "code",
      "metadata": {
        "colab": {
          "base_uri": "https://localhost:8080/"
        },
        "id": "PEl1SUencJxA",
        "outputId": "8667d6b1-e55c-4d92-f5dd-44ce93c99776"
      },
      "source": [
        "# Mengambil review yang memiliki jumlah review lebih dari 20 dari Short Review\n",
        "\n",
        "filtered_data = df_short_reviews.groupby('product_id').filter(lambda x: len(x) >= 20)\n",
        "print('Filtered Data : ' + str(len(filtered_data)))\n",
        "print(filtered_data ['star_rating'].value_counts())\n",
        "filtered_data ['sentiment'] = filtered_data ['star_rating'].apply(get_sentiment)\n",
        "#train_data = df_short_reviews.sample(n=200000, random_state =0)\n",
        "train_data = filtered_data[['review_body','sentiment']]\n",
        "print('Train data')\n",
        "print(train_data['sentiment'].value_counts())\n"
      ],
      "execution_count": 21,
      "outputs": [
        {
          "output_type": "stream",
          "text": [
            "Filtered Data : 201067\n",
            "5    106879\n",
            "4     43729\n",
            "3     20038\n",
            "1     18739\n",
            "2     11682\n",
            "Name: star_rating, dtype: int64\n",
            "Train data\n",
            "1    170646\n",
            "0     30421\n",
            "Name: sentiment, dtype: int64\n"
          ],
          "name": "stdout"
        }
      ]
    },
    {
      "cell_type": "code",
      "metadata": {
        "colab": {
          "base_uri": "https://localhost:8080/"
        },
        "id": "V61VxkiYcJtJ",
        "outputId": "a724a670-00df-4d1d-9b18-bd73f388e3b4"
      },
      "source": [
        "# Membuat data test berdasarkan produk yang memiliki jumlah review > =  10 \n",
        "\n",
        "mask = dataset['Num_words_text'] < 100 \n",
        "df_short_reviews = dataset[mask]\n",
        "filtered_data = df_short_reviews.groupby('product_id').filter(lambda x: len(x) >= 10)\n",
        "print('Filtered Data : ' + str(len(filtered_data)))\n",
        "print(filtered_data ['star_rating'].value_counts())\n",
        "filtered_data ['sentiment'] = filtered_data ['star_rating'].apply(get_sentiment)\n",
        "test_data = filtered_data[['review_body','sentiment']]\n",
        "print('Test data')\n",
        "print(test_data['sentiment'].value_counts())"
      ],
      "execution_count": 22,
      "outputs": [
        {
          "output_type": "stream",
          "text": [
            "Filtered Data : 487191\n",
            "5    283329\n",
            "4     96418\n",
            "3     43179\n",
            "1     39915\n",
            "2     24350\n",
            "Name: star_rating, dtype: int64\n",
            "Test data\n",
            "1    422926\n",
            "0     64265\n",
            "Name: sentiment, dtype: int64\n"
          ],
          "name": "stdout"
        }
      ]
    },
    {
      "cell_type": "code",
      "metadata": {
        "colab": {
          "base_uri": "https://localhost:8080/"
        },
        "id": "XfCGxQiRd-8l",
        "outputId": "2821144f-21c7-49ec-d181-caf177bb4d09"
      },
      "source": [
        "X_train, X_valid, y_train, y_valid = train_test_split(train_data['review_body'].tolist(),\\\n",
        "                                                      train_data['sentiment'].tolist(),\\\n",
        "                                                      test_size=0.5,\\\n",
        "                                                      stratify = train_data['sentiment'].tolist(),\\\n",
        "                                                      random_state=0)\n",
        "\n",
        "\n",
        "print('Train data len:'+str(len(X_train)))\n",
        "print('Class distribution'+str(Counter(y_train)))\n",
        "print('Valid data len:'+str(len(X_valid)))\n",
        "print('Class distribution'+ str(Counter(y_valid)))"
      ],
      "execution_count": 23,
      "outputs": [
        {
          "output_type": "stream",
          "text": [
            "Train data len:100533\n",
            "Class distributionCounter({1: 85323, 0: 15210})\n",
            "Valid data len:100534\n",
            "Class distributionCounter({1: 85323, 0: 15211})\n"
          ],
          "name": "stdout"
        }
      ]
    },
    {
      "cell_type": "code",
      "metadata": {
        "colab": {
          "base_uri": "https://localhost:8080/"
        },
        "id": "yjWDKzF5d-52",
        "outputId": "0b6204bf-3395-4a99-d8d2-c302e53b7f2c"
      },
      "source": [
        "num_words = 50000\n",
        "\n",
        "tokenizer = Tokenizer(num_words=num_words,oov_token=\"unk\")\n",
        "tokenizer.fit_on_texts(X_train)\n",
        "\n",
        "\n",
        "print(str(tokenizer.texts_to_sequences(['xyz how are you'])))"
      ],
      "execution_count": 24,
      "outputs": [
        {
          "output_type": "stream",
          "text": [
            "[[1, 120, 14, 13]]\n"
          ],
          "name": "stdout"
        }
      ]
    },
    {
      "cell_type": "code",
      "metadata": {
        "colab": {
          "base_uri": "https://localhost:8080/"
        },
        "id": "qBLpKvjed-3U",
        "outputId": "a8962a84-b9c4-4800-ad6b-2f4fb65c8a08"
      },
      "source": [
        "x_train = np.array( tokenizer.texts_to_sequences(X_train) )\n",
        "x_valid = np.array( tokenizer.texts_to_sequences(X_valid) )\n",
        "x_test  = np.array( tokenizer.texts_to_sequences(test_data['review_body'].tolist()) )\n",
        "\n",
        "\n",
        "\n",
        "x_train = pad_sequences(x_train, padding='post', maxlen=100)\n",
        "x_valid = pad_sequences(x_valid, padding='post', maxlen=100)\n",
        "x_test = pad_sequences(x_test, padding='post', maxlen=100)\n",
        "\n",
        "\n",
        "\n",
        "train_labels = np.asarray(y_train )\n",
        "valid_labels = np.asarray(y_valid)\n",
        "\n",
        "test_labels = np.asarray(test_data['sentiment'].tolist())\n",
        "\n",
        "print('Train data len:'+str(len(x_train)))\n",
        "print('Class distribution'+str(Counter(train_labels)))\n",
        "\n",
        "print('Validation data len:'+str(len(x_valid)))\n",
        "print('Class distribution'+str(Counter(valid_labels)))\n",
        "\n",
        "print('Test data len:'+str(len(x_test)))\n",
        "print('Class distribution'+str(Counter(test_labels)))\n",
        "\n",
        "\n",
        "train_ds = tf.data.Dataset.from_tensor_slices((x_train,train_labels))\n",
        "valid_ds = tf.data.Dataset.from_tensor_slices((x_valid,valid_labels))\n",
        "test_ds = tf.data.Dataset.from_tensor_slices((x_test,test_labels))\n"
      ],
      "execution_count": 26,
      "outputs": [
        {
          "output_type": "stream",
          "text": [
            "/usr/local/lib/python3.7/dist-packages/ipykernel_launcher.py:1: VisibleDeprecationWarning: Creating an ndarray from ragged nested sequences (which is a list-or-tuple of lists-or-tuples-or ndarrays with different lengths or shapes) is deprecated. If you meant to do this, you must specify 'dtype=object' when creating the ndarray\n",
            "  \"\"\"Entry point for launching an IPython kernel.\n",
            "/usr/local/lib/python3.7/dist-packages/ipykernel_launcher.py:2: VisibleDeprecationWarning: Creating an ndarray from ragged nested sequences (which is a list-or-tuple of lists-or-tuples-or ndarrays with different lengths or shapes) is deprecated. If you meant to do this, you must specify 'dtype=object' when creating the ndarray\n",
            "  \n",
            "/usr/local/lib/python3.7/dist-packages/ipykernel_launcher.py:3: VisibleDeprecationWarning: Creating an ndarray from ragged nested sequences (which is a list-or-tuple of lists-or-tuples-or ndarrays with different lengths or shapes) is deprecated. If you meant to do this, you must specify 'dtype=object' when creating the ndarray\n",
            "  This is separate from the ipykernel package so we can avoid doing imports until\n"
          ],
          "name": "stderr"
        },
        {
          "output_type": "stream",
          "text": [
            "Train data len:100533\n",
            "Class distributionCounter({1: 85323, 0: 15210})\n",
            "Validation data len:100534\n",
            "Class distributionCounter({1: 85323, 0: 15211})\n",
            "Test data len:487191\n",
            "Class distributionCounter({1: 422926, 0: 64265})\n"
          ],
          "name": "stdout"
        }
      ]
    },
    {
      "cell_type": "code",
      "metadata": {
        "colab": {
          "base_uri": "https://localhost:8080/"
        },
        "id": "Py23htQwd-0V",
        "outputId": "d8841852-8cce-4676-9301-6b16d5938f83"
      },
      "source": [
        "count =0\n",
        "print('======Train dataset ====')\n",
        "for value,label in train_ds:\n",
        "    count += 1\n",
        "    print(value,label)\n",
        "    if count==1:\n",
        "        break\n",
        "count =0\n",
        "print('======Validation dataset ====')\n",
        "for value,label in valid_ds:\n",
        "    count += 1\n",
        "    print(value,label)\n",
        "    if count==1:\n",
        "        break\n",
        "count =0\n",
        "print('======Test dataset ====')\n",
        "for value,label in test_ds:\n",
        "    count += 1\n",
        "    print(value,label)\n",
        "    if count==1:\n",
        "        break\n"
      ],
      "execution_count": 27,
      "outputs": [
        {
          "output_type": "stream",
          "text": [
            "======Train dataset ====\n",
            "tf.Tensor(\n",
            "[  269     3   244     2   250    63    32    23  3302   260     3    97\n",
            "    11   338  3442     3 23427    32  2732   542   274     3   834    55\n",
            "   912   218    32    12    23   171    63     0     0     0     0     0\n",
            "     0     0     0     0     0     0     0     0     0     0     0     0\n",
            "     0     0     0     0     0     0     0     0     0     0     0     0\n",
            "     0     0     0     0     0     0     0     0     0     0     0     0\n",
            "     0     0     0     0     0     0     0     0     0     0     0     0\n",
            "     0     0     0     0     0     0     0     0     0     0     0     0\n",
            "     0     0     0     0], shape=(100,), dtype=int32) tf.Tensor(1, shape=(), dtype=int64)\n",
            "======Validation dataset ====\n",
            "tf.Tensor(\n",
            "[   5    6   51    4    2  236    7    6  323  264  133  150  445  746\n",
            "    2  122   17 7330    3  125  873  379  726  252    9  243  284  110\n",
            "   13   57   58   13  340    4  152  870   16  507    3   35   15    0\n",
            "    0    0    0    0    0    0    0    0    0    0    0    0    0    0\n",
            "    0    0    0    0    0    0    0    0    0    0    0    0    0    0\n",
            "    0    0    0    0    0    0    0    0    0    0    0    0    0    0\n",
            "    0    0    0    0    0    0    0    0    0    0    0    0    0    0\n",
            "    0    0], shape=(100,), dtype=int32) tf.Tensor(1, shape=(), dtype=int64)\n",
            "======Test dataset ====\n",
            "tf.Tensor(\n",
            "[   5   79    8 1389    3   61  196  246  167   10   26   52 1936    4\n",
            "    2   94    0    0    0    0    0    0    0    0    0    0    0    0\n",
            "    0    0    0    0    0    0    0    0    0    0    0    0    0    0\n",
            "    0    0    0    0    0    0    0    0    0    0    0    0    0    0\n",
            "    0    0    0    0    0    0    0    0    0    0    0    0    0    0\n",
            "    0    0    0    0    0    0    0    0    0    0    0    0    0    0\n",
            "    0    0    0    0    0    0    0    0    0    0    0    0    0    0\n",
            "    0    0], shape=(100,), dtype=int32) tf.Tensor(1, shape=(), dtype=int64)\n"
          ],
          "name": "stdout"
        }
      ]
    },
    {
      "cell_type": "markdown",
      "metadata": {
        "id": "pKMcsQcEtc27"
      },
      "source": [
        "# Pembuatan Model LSTM"
      ]
    },
    {
      "cell_type": "code",
      "metadata": {
        "colab": {
          "base_uri": "https://localhost:8080/"
        },
        "id": "Eta-9JUui5hg",
        "outputId": "92a65c9a-b868-45e4-e595-c3301b5bd3da"
      },
      "source": [
        "max_features =50000\n",
        "embedding_dim =16\n",
        "sequence_length = 100\n",
        "\n",
        "model = tf.keras.Sequential()\n",
        "model.add(tf.keras.layers.Embedding(max_features +1, embedding_dim, input_length=sequence_length,\\\n",
        "                                    embeddings_regularizer = regularizers.l2(0.005))) \n",
        "model.add(tf.keras.layers.Dropout(0.4))\n",
        "\n",
        "model.add(tf.keras.layers.LSTM(embedding_dim,dropout=0.2, recurrent_dropout=0.2,return_sequences=True,\\\n",
        "                                                             kernel_regularizer=regularizers.l2(0.005),\\\n",
        "                                                             bias_regularizer=regularizers.l2(0.005)))\n",
        "\n",
        "model.add(tf.keras.layers.Flatten())\n",
        "\n",
        "model.add(tf.keras.layers.Dense(512, activation='relu',\\\n",
        "                                kernel_regularizer=regularizers.l2(0.001),\\\n",
        "                                bias_regularizer=regularizers.l2(0.001),))\n",
        "model.add(tf.keras.layers.Dropout(0.4))\n",
        "\n",
        "model.add(tf.keras.layers.Dense(8, activation='relu',\\\n",
        "                                kernel_regularizer=regularizers.l2(0.001),\\\n",
        "                                bias_regularizer=regularizers.l2(0.001),))\n",
        "model.add(tf.keras.layers.Dropout(0.4))\n",
        "\n",
        "\n",
        "model.add(tf.keras.layers.Dense(1,activation='sigmoid'))\n",
        "                               \n",
        "\n",
        "\n",
        "\n",
        "model.summary()\n",
        "model.compile(loss=tf.keras.losses.BinaryCrossentropy(),optimizer=tf.keras.optimizers.Adam(1e-3),metrics=[tf.keras.metrics.BinaryAccuracy()])\n"
      ],
      "execution_count": 28,
      "outputs": [
        {
          "output_type": "stream",
          "text": [
            "Model: \"sequential\"\n",
            "_________________________________________________________________\n",
            "Layer (type)                 Output Shape              Param #   \n",
            "=================================================================\n",
            "embedding (Embedding)        (None, 100, 16)           800016    \n",
            "_________________________________________________________________\n",
            "dropout (Dropout)            (None, 100, 16)           0         \n",
            "_________________________________________________________________\n",
            "lstm (LSTM)                  (None, 100, 16)           2112      \n",
            "_________________________________________________________________\n",
            "flatten (Flatten)            (None, 1600)              0         \n",
            "_________________________________________________________________\n",
            "dense (Dense)                (None, 512)               819712    \n",
            "_________________________________________________________________\n",
            "dropout_1 (Dropout)          (None, 512)               0         \n",
            "_________________________________________________________________\n",
            "dense_1 (Dense)              (None, 8)                 4104      \n",
            "_________________________________________________________________\n",
            "dropout_2 (Dropout)          (None, 8)                 0         \n",
            "_________________________________________________________________\n",
            "dense_2 (Dense)              (None, 1)                 9         \n",
            "=================================================================\n",
            "Total params: 1,625,953\n",
            "Trainable params: 1,625,953\n",
            "Non-trainable params: 0\n",
            "_________________________________________________________________\n"
          ],
          "name": "stdout"
        }
      ]
    },
    {
      "cell_type": "code",
      "metadata": {
        "colab": {
          "base_uri": "https://localhost:8080/",
          "height": 1000
        },
        "id": "eF9AsoZNi-dI",
        "outputId": "5f69b09e-4f71-4f7d-8f90-9b35b520acc7"
      },
      "source": [
        "tf.keras.utils.plot_model(model, \"multi_input_and_output_model.png\", show_shapes=True)"
      ],
      "execution_count": 29,
      "outputs": [
        {
          "output_type": "execute_result",
          "data": {
            "image/png": "[encoded data removed]",
            "text/plain": [
              "<IPython.core.display.Image object>"
            ]
          },
          "metadata": {
            "tags": []
          },
          "execution_count": 29
        }
      ]
    },
    {
      "cell_type": "markdown",
      "metadata": {
        "id": "k-iF0rdYtgla"
      },
      "source": [
        "# Melakukan fitting model"
      ]
    },
    {
      "cell_type": "code",
      "metadata": {
        "colab": {
          "base_uri": "https://localhost:8080/"
        },
        "id": "NDxugJ-7jC02",
        "outputId": "728a4dd5-d023-46b9-804c-232593b609e7"
      },
      "source": [
        "epochs = 10\n",
        "# Fit the model using the train and test datasets.\n",
        "#history = model.fit(x_train, train_labels,validation_data= (x_test,test_labels),epochs=epochs )\n",
        "history = model.fit(train_ds.shuffle(5000).batch(1024),\n",
        "                    epochs= epochs ,\n",
        "                    validation_data=valid_ds.batch(1024),\n",
        "                    verbose=1)\n"
      ],
      "execution_count": 30,
      "outputs": [
        {
          "output_type": "stream",
          "text": [
            "Epoch 1/10\n",
            "99/99 [==============================] - 53s 501ms/step - loss: 1.2547 - binary_accuracy: 0.8443 - val_loss: 0.4455 - val_binary_accuracy: 0.8859\n",
            "Epoch 2/10\n",
            "99/99 [==============================] - 50s 501ms/step - loss: 0.4173 - binary_accuracy: 0.8941 - val_loss: 0.3346 - val_binary_accuracy: 0.9180\n",
            "Epoch 3/10\n",
            "99/99 [==============================] - 49s 496ms/step - loss: 0.3652 - binary_accuracy: 0.9018 - val_loss: 0.3102 - val_binary_accuracy: 0.9198\n",
            "Epoch 4/10\n",
            "99/99 [==============================] - 49s 495ms/step - loss: 0.3451 - binary_accuracy: 0.9040 - val_loss: 0.2923 - val_binary_accuracy: 0.9211\n",
            "Epoch 5/10\n",
            "99/99 [==============================] - 49s 495ms/step - loss: 0.3344 - binary_accuracy: 0.9058 - val_loss: 0.2994 - val_binary_accuracy: 0.9138\n",
            "Epoch 6/10\n",
            "99/99 [==============================] - 49s 494ms/step - loss: 0.3275 - binary_accuracy: 0.9049 - val_loss: 0.2962 - val_binary_accuracy: 0.9180\n",
            "Epoch 7/10\n",
            "99/99 [==============================] - 50s 503ms/step - loss: 0.3208 - binary_accuracy: 0.9046 - val_loss: 0.2695 - val_binary_accuracy: 0.9233\n",
            "Epoch 8/10\n",
            "99/99 [==============================] - 50s 505ms/step - loss: 0.3136 - binary_accuracy: 0.9051 - val_loss: 0.2635 - val_binary_accuracy: 0.9235\n",
            "Epoch 9/10\n",
            "99/99 [==============================] - 49s 494ms/step - loss: 0.3091 - binary_accuracy: 0.9056 - val_loss: 0.2628 - val_binary_accuracy: 0.9232\n",
            "Epoch 10/10\n",
            "99/99 [==============================] - 50s 504ms/step - loss: 0.3061 - binary_accuracy: 0.9057 - val_loss: 0.2613 - val_binary_accuracy: 0.9238\n"
          ],
          "name": "stdout"
        }
      ]
    },
    {
      "cell_type": "code",
      "metadata": {
        "colab": {
          "base_uri": "https://localhost:8080/",
          "height": 301
        },
        "id": "SKm_3pQpjFq3",
        "outputId": "8937fc4f-5a6f-4f86-fe5f-156ab8f4b65b"
      },
      "source": [
        "plt.plot(history.history['loss'], label=' training data')\n",
        "plt.plot(history.history['val_loss'], label='validation data')\n",
        "plt.title('Loss for Text Classification')\n",
        "plt.ylabel('Loss value')\n",
        "plt.xlabel('No. epoch')\n",
        "plt.legend(loc=\"upper left\")\n",
        "plt.show()"
      ],
      "execution_count": 31,
      "outputs": [
        {
          "output_type": "display_data",
          "data": {
            "image/png": "[encoded data removed]",
            "text/plain": [
              "<Figure size 432x288 with 1 Axes>"
            ]
          },
          "metadata": {
            "tags": []
          }
        }
      ]
    },
    {
      "cell_type": "code",
      "metadata": {
        "colab": {
          "base_uri": "https://localhost:8080/",
          "height": 301
        },
        "id": "B-AqkZbGjJ_c",
        "outputId": "bef3a416-009c-4d2a-e183-a5febb60d830"
      },
      "source": [
        "plt.plot(history.history['binary_accuracy'], label=' training data')\n",
        "plt.plot(history.history['val_binary_accuracy'], label='validation data')\n",
        "plt.title('Accuracy for Text Classification')\n",
        "plt.ylabel('Accuracy value')\n",
        "plt.xlabel('No. epoch')\n",
        "plt.legend(loc=\"upper left\")\n",
        "plt.show()"
      ],
      "execution_count": 32,
      "outputs": [
        {
          "output_type": "display_data",
          "data": {
            "image/png": "[encoded data removed]",
            "text/plain": [
              "<Figure size 432x288 with 1 Axes>"
            ]
          },
          "metadata": {
            "tags": []
          }
        }
      ]
    },
    {
      "cell_type": "markdown",
      "metadata": {
        "id": "PuQTdVrnrEye"
      },
      "source": [
        "# Penyimpanan Model dan Tokenizer"
      ]
    },
    {
      "cell_type": "code",
      "metadata": {
        "id": "HLEf_lI3l2Kv"
      },
      "source": [
        "model.save('/content/tf_lstmmodel.h5') \n",
        "json_string = tokenizer.to_json()"
      ],
      "execution_count": 46,
      "outputs": []
    },
    {
      "cell_type": "code",
      "metadata": {
        "id": "0EmqdRlNpo9c"
      },
      "source": [
        "import json\n",
        "with open('/content/tokenizer.json', 'w') as outfile:\n",
        "    json.dump(json_string, outfile)"
      ],
      "execution_count": 47,
      "outputs": []
    },
    {
      "cell_type": "code",
      "metadata": {
        "colab": {
          "base_uri": "https://localhost:8080/"
        },
        "id": "-7pnLA2XrkLL",
        "outputId": "f1206b39-9d90-487a-8797-6db11a85fb7b"
      },
      "source": [
        "valid_predict= model.predict(x_valid)\n",
        "print(valid_predict[:10])"
      ],
      "execution_count": 37,
      "outputs": [
        {
          "output_type": "stream",
          "text": [
            "[[0.6842443 ]\n",
            " [0.77865547]\n",
            " [0.95130754]\n",
            " [0.9519041 ]\n",
            " [0.9994879 ]\n",
            " [0.39765665]\n",
            " [0.97310585]\n",
            " [0.9177675 ]\n",
            " [0.99798304]\n",
            " [0.9040487 ]]\n"
          ],
          "name": "stdout"
        }
      ]
    },
    {
      "cell_type": "markdown",
      "metadata": {
        "id": "3LAAlsefrz9t"
      },
      "source": [
        "# Menjalankan model yang sudah disimpan sebelumnya"
      ]
    },
    {
      "cell_type": "code",
      "metadata": {
        "colab": {
          "base_uri": "https://localhost:8080/"
        },
        "id": "9eKN7dPSronv",
        "outputId": "c8301f3c-7efe-4f1c-828a-40a494237ab4"
      },
      "source": [
        "new_model = tf.keras.models.load_model('/content/tf_lstmmodel.h5')\n",
        "new_model.summary()"
      ],
      "execution_count": 48,
      "outputs": [
        {
          "output_type": "stream",
          "text": [
            "Model: \"sequential\"\n",
            "_________________________________________________________________\n",
            "Layer (type)                 Output Shape              Param #   \n",
            "=================================================================\n",
            "embedding (Embedding)        (None, 100, 16)           800016    \n",
            "_________________________________________________________________\n",
            "dropout (Dropout)            (None, 100, 16)           0         \n",
            "_________________________________________________________________\n",
            "lstm (LSTM)                  (None, 100, 16)           2112      \n",
            "_________________________________________________________________\n",
            "flatten (Flatten)            (None, 1600)              0         \n",
            "_________________________________________________________________\n",
            "dense (Dense)                (None, 512)               819712    \n",
            "_________________________________________________________________\n",
            "dropout_1 (Dropout)          (None, 512)               0         \n",
            "_________________________________________________________________\n",
            "dense_1 (Dense)              (None, 8)                 4104      \n",
            "_________________________________________________________________\n",
            "dropout_2 (Dropout)          (None, 8)                 0         \n",
            "_________________________________________________________________\n",
            "dense_2 (Dense)              (None, 1)                 9         \n",
            "=================================================================\n",
            "Total params: 1,625,953\n",
            "Trainable params: 1,625,953\n",
            "Non-trainable params: 0\n",
            "_________________________________________________________________\n"
          ],
          "name": "stdout"
        }
      ]
    },
    {
      "cell_type": "code",
      "metadata": {
        "id": "9t_IigJCr62X"
      },
      "source": [
        "with open('/content/tokenizer.json') as json_file:\n",
        "    json_string = json.load(json_file)\n",
        "tokenizer1 = tf.keras.preprocessing.text.tokenizer_from_json(json_string)"
      ],
      "execution_count": 49,
      "outputs": []
    },
    {
      "cell_type": "code",
      "metadata": {
        "colab": {
          "base_uri": "https://localhost:8080/"
        },
        "id": "ABqgFYvor-EC",
        "outputId": "40c507c8-a14d-4d49-c94a-5c9b3a1f66e5"
      },
      "source": [
        "x_test  = np.array( tokenizer.texts_to_sequences(test_data['review_body'].tolist()) )\n",
        "x_test = pad_sequences(x_test, padding='post', maxlen=100)"
      ],
      "execution_count": 41,
      "outputs": [
        {
          "output_type": "stream",
          "text": [
            "/usr/local/lib/python3.7/dist-packages/ipykernel_launcher.py:1: VisibleDeprecationWarning: Creating an ndarray from ragged nested sequences (which is a list-or-tuple of lists-or-tuples-or ndarrays with different lengths or shapes) is deprecated. If you meant to do this, you must specify 'dtype=object' when creating the ndarray\n",
            "  \"\"\"Entry point for launching an IPython kernel.\n"
          ],
          "name": "stderr"
        }
      ]
    },
    {
      "cell_type": "code",
      "metadata": {
        "id": "iUhbLOuFsEuY"
      },
      "source": [
        "# Generate predictions (probabilities -- the output of the last layer)\n",
        "# on test  data using `predict`\n",
        "predictions = new_model.predict(x_test)"
      ],
      "execution_count": 42,
      "outputs": []
    },
    {
      "cell_type": "code",
      "metadata": {
        "colab": {
          "base_uri": "https://localhost:8080/"
        },
        "id": "rSKBFWKKsNNL",
        "outputId": "fd98707d-f978-464e-9eb5-1aaa0da20c62"
      },
      "source": [
        "test_data['pred_sentiment']= predictions\n",
        "test_data['pred_sentiment'] = np.where((test_data.pred_sentiment >= 0.78),1,test_data.pred_sentiment)\n",
        "test_data['pred_sentiment'] = np.where((test_data.pred_sentiment < 0.78),0,test_data.pred_sentiment)"
      ],
      "execution_count": 43,
      "outputs": [
        {
          "output_type": "stream",
          "text": [
            "/usr/local/lib/python3.7/dist-packages/ipykernel_launcher.py:1: SettingWithCopyWarning: \n",
            "A value is trying to be set on a copy of a slice from a DataFrame.\n",
            "Try using .loc[row_indexer,col_indexer] = value instead\n",
            "\n",
            "See the caveats in the documentation: https://pandas.pydata.org/pandas-docs/stable/user_guide/indexing.html#returning-a-view-versus-a-copy\n",
            "  \"\"\"Entry point for launching an IPython kernel.\n",
            "/usr/local/lib/python3.7/dist-packages/ipykernel_launcher.py:2: SettingWithCopyWarning: \n",
            "A value is trying to be set on a copy of a slice from a DataFrame.\n",
            "Try using .loc[row_indexer,col_indexer] = value instead\n",
            "\n",
            "See the caveats in the documentation: https://pandas.pydata.org/pandas-docs/stable/user_guide/indexing.html#returning-a-view-versus-a-copy\n",
            "  \n",
            "/usr/local/lib/python3.7/dist-packages/ipykernel_launcher.py:3: SettingWithCopyWarning: \n",
            "A value is trying to be set on a copy of a slice from a DataFrame.\n",
            "Try using .loc[row_indexer,col_indexer] = value instead\n",
            "\n",
            "See the caveats in the documentation: https://pandas.pydata.org/pandas-docs/stable/user_guide/indexing.html#returning-a-view-versus-a-copy\n",
            "  This is separate from the ipykernel package so we can avoid doing imports until\n"
          ],
          "name": "stderr"
        }
      ]
    },
    {
      "cell_type": "code",
      "metadata": {
        "colab": {
          "base_uri": "https://localhost:8080/"
        },
        "id": "sE9odJ2qsRtp",
        "outputId": "852b89ab-3333-4a44-fc2e-bd16683841d8"
      },
      "source": [
        "labels = [0, 1]\n",
        "    \n",
        "print(classification_report(test_data['sentiment'].tolist(),test_data['pred_sentiment'].tolist(),labels=labels))"
      ],
      "execution_count": 44,
      "outputs": [
        {
          "output_type": "stream",
          "text": [
            "              precision    recall  f1-score   support\n",
            "\n",
            "           0       0.59      0.87      0.70     64265\n",
            "           1       0.98      0.91      0.94    422926\n",
            "\n",
            "    accuracy                           0.90    487191\n",
            "   macro avg       0.79      0.89      0.82    487191\n",
            "weighted avg       0.93      0.90      0.91    487191\n",
            "\n"
          ],
          "name": "stdout"
        }
      ]
    }
  ]
}